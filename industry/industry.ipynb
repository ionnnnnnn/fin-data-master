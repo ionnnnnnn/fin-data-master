{
 "nbformat": 4,
 "nbformat_minor": 2,
 "metadata": {
  "language_info": {
   "name": "python",
   "codemirror_mode": {
    "name": "ipython",
    "version": 3
   },
   "version": "3.6.5-final"
  },
  "orig_nbformat": 2,
  "file_extension": ".py",
  "mimetype": "text/x-python",
  "name": "python",
  "npconvert_exporter": "python",
  "pygments_lexer": "ipython3",
  "version": 3,
  "kernelspec": {
   "name": "python3",
   "language": "python",
   "display_name": "Python 3"
  }
 },
 "cells": [
  {
   "cell_type": "code",
   "execution_count": 1,
   "metadata": {
    "pycharm": {
     "is_executing": false
    }
   },
   "outputs": [],
   "source": [
    "import pdfplumber\n",
    "import json\n",
    "import pandas as pd"
   ]
  },
  {
   "cell_type": "code",
   "execution_count": 2,
   "metadata": {
    "pycharm": {
     "is_executing": false
    }
   },
   "outputs": [],
   "source": [
    "# 股票代码检查\n",
    "import tushare as ts\n",
    "ts_token = '53cd3b985c649c978160c6ec04bce24f4fbd2ebcb4673e8f2fba9a43'\n",
    "\n",
    "ts.set_token(ts_token)\n",
    "pro = ts.pro_api()\n",
    "stock_codes = list(pro.stock_basic(exchange='', list_status='L', fields='ts_code')['ts_code'])\n",
    "\n",
    "# 以下操作便于之后为股票代码添加后缀\n",
    "stock_code_dict = {}\n",
    "for code in stock_codes:\n",
    "    stock_code_dict[code[:6]] = code"
   ]
  },
  {
   "cell_type": "code",
   "execution_count": 3,
   "metadata": {
    "pycharm": {
     "is_executing": false
    }
   },
   "outputs": [],
   "source": [
    "pdf_path = \"行业分类.pdf\"\n",
    "pdf =  pdfplumber.open(pdf_path)"
   ]
  },
  {
   "cell_type": "code",
   "execution_count": 4,
   "metadata": {
    "pycharm": {
     "is_executing": false
    }
   },
   "outputs": [],
   "source": [
    "pages = pdf.pages\n",
    "industries = {}\n",
    "for i in range(len(pages)):\n",
    "    page = pages[i]\n",
    "    table = page.extract_table()\n",
    "    for j in range(len(table)):\n",
    "        if j == 0:\n",
    "            continue\n",
    "        if table[j][0] != None:\n",
    "            industry = table[j][0].replace(\" \", \"\").replace(\"\\n\",\"\")         \n",
    "            if industry not in industries.keys():\n",
    "                industries[industry] = []\n",
    "        stock = table[j][3]\n",
    "        if stock not in industries[industry] and stock in stock_code_dict.keys():\n",
    "            industries[industry].append(stock_code_dict[stock])"
   ]
  },
  {
   "cell_type": "code",
   "execution_count": 5,
   "metadata": {
    "pycharm": {
     "is_executing": false
    }
   },
   "outputs": [],
   "source": [
    "df = pd.DataFrame.from_dict(industries, orient='index').T\n",
    "df.to_csv(\"industry.csv\", index = True, sep=',')"
   ]
  },
  {
   "cell_type": "code",
   "execution_count": 6,
   "metadata": {
    "pycharm": {
     "is_executing": false
    }
   },
   "outputs": [
    {
     "data": {
      "text/plain": "['农、林、牧、渔业(A)',\n '采矿业(B)',\n '制造业(C)',\n '电力、热力、燃气及水生产和供应业(D)',\n '建筑业(E)',\n '批发和零售业(F)',\n '交通运输、仓储和邮政业(G)',\n '住宿和餐饮业(H)',\n '信息传输、软件和信息技术服务业(I)',\n '金融业(J)',\n '房地产业(K)',\n '租赁和商务服务业(L)',\n '科学研究和技术服务业(M)',\n '水利、环境和公共设施管理业(N)',\n '居民服务、修理和其他服务业(O)',\n '教育(P)',\n '卫生和社会工作(Q)',\n '文化、体育和娱乐业(R)',\n '综合(S)']"
     },
     "metadata": {},
     "output_type": "execute_result",
     "execution_count": 6
    }
   ],
   "source": [
    "# 全部行业\n",
    "list(industries.keys())"
   ]
  },
  {
   "cell_type": "code",
   "execution_count": 7,
   "metadata": {
    "pycharm": {
     "is_executing": false
    }
   },
   "outputs": [],
   "source": [
    "# 全部股票列表\n",
    "stock_list = []\n",
    "for industry in industries:\n",
    "    stock_list.extend(industries[industry])\n",
    "\n",
    "stock_codes_file = open('stock.txt', 'w')\n",
    "for stock_code in stock_list:\n",
    "\tstock_codes_file.write(stock_code)\n",
    "\tstock_codes_file.write('\\n')\n",
    "stock_codes_file.close()"
   ]
  },
  {
   "cell_type": "code",
   "execution_count": 8,
   "metadata": {
    "pycharm": {
     "is_executing": false
    }
   },
   "outputs": [
    {
     "traceback": [
      "\u001b[1;31m---------------------------------------------------------------------------\u001b[0m",
      "\u001b[1;31mTypeError\u001b[0m                                 Traceback (most recent call last)",
      "\u001b[1;32m<ipython-input-8-e905ce910923>\u001b[0m in \u001b[0;36m<module>\u001b[1;34m\u001b[0m\n\u001b[0;32m      1\u001b[0m \u001b[1;33m\u001b[0m\u001b[0m\n\u001b[1;32m----> 2\u001b[1;33m \u001b[0mdf\u001b[0m \u001b[1;33m=\u001b[0m \u001b[0mpd\u001b[0m\u001b[1;33m.\u001b[0m\u001b[0mDataFrame\u001b[0m\u001b[1;33m(\u001b[0m\u001b[0mstock_list\u001b[0m\u001b[1;33m,\u001b[0m \u001b[0morient\u001b[0m\u001b[1;33m=\u001b[0m\u001b[1;34m'index'\u001b[0m\u001b[1;33m)\u001b[0m\u001b[1;33m.\u001b[0m\u001b[0mT\u001b[0m\u001b[1;33m\u001b[0m\u001b[1;33m\u001b[0m\u001b[0m\n\u001b[0m\u001b[0;32m      3\u001b[0m \u001b[0mdf\u001b[0m\u001b[1;33m.\u001b[0m\u001b[0mto_csv\u001b[0m\u001b[1;33m(\u001b[0m\u001b[1;34m\"stock.csv\"\u001b[0m\u001b[1;33m,\u001b[0m \u001b[0mindex\u001b[0m \u001b[1;33m=\u001b[0m \u001b[1;32mTrue\u001b[0m\u001b[1;33m,\u001b[0m \u001b[0msep\u001b[0m\u001b[1;33m=\u001b[0m\u001b[1;34m','\u001b[0m\u001b[1;33m)\u001b[0m\u001b[1;33m\u001b[0m\u001b[1;33m\u001b[0m\u001b[0m\n",
      "\u001b[1;31mTypeError\u001b[0m: __init__() got an unexpected keyword argument 'orient'"
     ],
     "ename": "TypeError",
     "evalue": "__init__() got an unexpected keyword argument 'orient'",
     "output_type": "error"
    }
   ],
   "source": [
    "df = pd.DataFrame(stock_list, orient='index').T\n",
    "df.to_csv(\"stock.csv\", index = True, sep=',')"
   ]
  }
 ]
}